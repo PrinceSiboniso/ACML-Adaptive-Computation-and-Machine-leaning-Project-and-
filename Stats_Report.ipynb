{
 "cells": [
  {
   "cell_type": "code",
   "execution_count": 75,
   "id": "0ee02fa3",
   "metadata": {},
   "outputs": [],
   "source": [
    "import statsmodels.api as sm\n",
    "import pandas as pd\n",
    "import matplotlib.pyplot as plt\n",
    "import seaborn as sns\n",
    "import matplotlib.pyplot as plt\n",
    "from mpl_toolkits.mplot3d import Axes3D\n",
    "import scipy.stats as stats\n",
    "from sklearn.feature_selection import SelectKBest, chi2\n",
    "from sklearn.model_selection import train_test_split\n",
    "from sklearn.linear_model import LogisticRegression\n",
    "from sklearn.metrics import accuracy_score\n",
    "import warnings\n",
    "warnings.filterwarnings('ignore')\n",
    "from sklearn.model_selection import train_test_split"
   ]
  },
  {
   "cell_type": "code",
   "execution_count": 2,
   "id": "7eee061a",
   "metadata": {},
   "outputs": [],
   "source": [
    "df = pd.read_csv(\"data.csv\")"
   ]
  },
  {
   "cell_type": "markdown",
   "id": "6d37300c",
   "metadata": {},
   "source": [
    "EXPLORING THE DATASET"
   ]
  },
  {
   "cell_type": "code",
   "execution_count": 3,
   "id": "633847c1",
   "metadata": {},
   "outputs": [
    {
     "data": {
      "text/html": [
       "<div>\n",
       "<style scoped>\n",
       "    .dataframe tbody tr th:only-of-type {\n",
       "        vertical-align: middle;\n",
       "    }\n",
       "\n",
       "    .dataframe tbody tr th {\n",
       "        vertical-align: top;\n",
       "    }\n",
       "\n",
       "    .dataframe thead th {\n",
       "        text-align: right;\n",
       "    }\n",
       "</style>\n",
       "<table border=\"1\" class=\"dataframe\">\n",
       "  <thead>\n",
       "    <tr style=\"text-align: right;\">\n",
       "      <th></th>\n",
       "      <th>Credentials</th>\n",
       "      <th>Age</th>\n",
       "      <th>Test Scores</th>\n",
       "      <th>Performance</th>\n",
       "    </tr>\n",
       "  </thead>\n",
       "  <tbody>\n",
       "    <tr>\n",
       "      <th>0</th>\n",
       "      <td>53</td>\n",
       "      <td>30</td>\n",
       "      <td>57</td>\n",
       "      <td>0</td>\n",
       "    </tr>\n",
       "    <tr>\n",
       "      <th>1</th>\n",
       "      <td>43</td>\n",
       "      <td>30</td>\n",
       "      <td>68</td>\n",
       "      <td>1</td>\n",
       "    </tr>\n",
       "    <tr>\n",
       "      <th>2</th>\n",
       "      <td>57</td>\n",
       "      <td>37</td>\n",
       "      <td>63</td>\n",
       "      <td>1</td>\n",
       "    </tr>\n",
       "    <tr>\n",
       "      <th>3</th>\n",
       "      <td>43</td>\n",
       "      <td>29</td>\n",
       "      <td>62</td>\n",
       "      <td>0</td>\n",
       "    </tr>\n",
       "    <tr>\n",
       "      <th>4</th>\n",
       "      <td>60</td>\n",
       "      <td>34</td>\n",
       "      <td>60</td>\n",
       "      <td>1</td>\n",
       "    </tr>\n",
       "    <tr>\n",
       "      <th>...</th>\n",
       "      <td>...</td>\n",
       "      <td>...</td>\n",
       "      <td>...</td>\n",
       "      <td>...</td>\n",
       "    </tr>\n",
       "    <tr>\n",
       "      <th>995</th>\n",
       "      <td>53</td>\n",
       "      <td>31</td>\n",
       "      <td>69</td>\n",
       "      <td>1</td>\n",
       "    </tr>\n",
       "    <tr>\n",
       "      <th>996</th>\n",
       "      <td>41</td>\n",
       "      <td>32</td>\n",
       "      <td>57</td>\n",
       "      <td>0</td>\n",
       "    </tr>\n",
       "    <tr>\n",
       "      <th>997</th>\n",
       "      <td>40</td>\n",
       "      <td>26</td>\n",
       "      <td>62</td>\n",
       "      <td>0</td>\n",
       "    </tr>\n",
       "    <tr>\n",
       "      <th>998</th>\n",
       "      <td>57</td>\n",
       "      <td>25</td>\n",
       "      <td>57</td>\n",
       "      <td>1</td>\n",
       "    </tr>\n",
       "    <tr>\n",
       "      <th>999</th>\n",
       "      <td>72</td>\n",
       "      <td>34</td>\n",
       "      <td>60</td>\n",
       "      <td>1</td>\n",
       "    </tr>\n",
       "  </tbody>\n",
       "</table>\n",
       "<p>1000 rows × 4 columns</p>\n",
       "</div>"
      ],
      "text/plain": [
       "     Credentials  Age  Test Scores  Performance\n",
       "0             53   30           57            0\n",
       "1             43   30           68            1\n",
       "2             57   37           63            1\n",
       "3             43   29           62            0\n",
       "4             60   34           60            1\n",
       "..           ...  ...          ...          ...\n",
       "995           53   31           69            1\n",
       "996           41   32           57            0\n",
       "997           40   26           62            0\n",
       "998           57   25           57            1\n",
       "999           72   34           60            1\n",
       "\n",
       "[1000 rows x 4 columns]"
      ]
     },
     "execution_count": 3,
     "metadata": {},
     "output_type": "execute_result"
    }
   ],
   "source": [
    "df"
   ]
  },
  {
   "cell_type": "code",
   "execution_count": 4,
   "id": "2876c2de",
   "metadata": {},
   "outputs": [
    {
     "data": {
      "text/plain": [
       "<bound method DataFrame.info of      Credentials  Age  Test Scores  Performance\n",
       "0             53   30           57            0\n",
       "1             43   30           68            1\n",
       "2             57   37           63            1\n",
       "3             43   29           62            0\n",
       "4             60   34           60            1\n",
       "..           ...  ...          ...          ...\n",
       "995           53   31           69            1\n",
       "996           41   32           57            0\n",
       "997           40   26           62            0\n",
       "998           57   25           57            1\n",
       "999           72   34           60            1\n",
       "\n",
       "[1000 rows x 4 columns]>"
      ]
     },
     "execution_count": 4,
     "metadata": {},
     "output_type": "execute_result"
    }
   ],
   "source": [
    "df.info"
   ]
  },
  {
   "cell_type": "code",
   "execution_count": 5,
   "id": "63793c92",
   "metadata": {},
   "outputs": [
    {
     "data": {
      "text/plain": [
       "Credentials    0\n",
       "Age            0\n",
       "Test Scores    0\n",
       "Performance    0\n",
       "dtype: int64"
      ]
     },
     "execution_count": 5,
     "metadata": {},
     "output_type": "execute_result"
    }
   ],
   "source": [
    "df.isnull().sum()"
   ]
  },
  {
   "cell_type": "code",
   "execution_count": 6,
   "id": "fd1a2e6e",
   "metadata": {},
   "outputs": [
    {
     "data": {
      "text/plain": [
       "(1000, 4)"
      ]
     },
     "execution_count": 6,
     "metadata": {},
     "output_type": "execute_result"
    }
   ],
   "source": [
    "df.shape"
   ]
  },
  {
   "cell_type": "code",
   "execution_count": 7,
   "id": "4c0e3c1f",
   "metadata": {},
   "outputs": [
    {
     "data": {
      "text/html": [
       "<div>\n",
       "<style scoped>\n",
       "    .dataframe tbody tr th:only-of-type {\n",
       "        vertical-align: middle;\n",
       "    }\n",
       "\n",
       "    .dataframe tbody tr th {\n",
       "        vertical-align: top;\n",
       "    }\n",
       "\n",
       "    .dataframe thead th {\n",
       "        text-align: right;\n",
       "    }\n",
       "</style>\n",
       "<table border=\"1\" class=\"dataframe\">\n",
       "  <thead>\n",
       "    <tr style=\"text-align: right;\">\n",
       "      <th></th>\n",
       "      <th>Credentials</th>\n",
       "      <th>Age</th>\n",
       "      <th>Test Scores</th>\n",
       "      <th>Performance</th>\n",
       "    </tr>\n",
       "  </thead>\n",
       "  <tbody>\n",
       "    <tr>\n",
       "      <th>0</th>\n",
       "      <td>53</td>\n",
       "      <td>30</td>\n",
       "      <td>57</td>\n",
       "      <td>0</td>\n",
       "    </tr>\n",
       "    <tr>\n",
       "      <th>1</th>\n",
       "      <td>43</td>\n",
       "      <td>30</td>\n",
       "      <td>68</td>\n",
       "      <td>1</td>\n",
       "    </tr>\n",
       "    <tr>\n",
       "      <th>2</th>\n",
       "      <td>57</td>\n",
       "      <td>37</td>\n",
       "      <td>63</td>\n",
       "      <td>1</td>\n",
       "    </tr>\n",
       "    <tr>\n",
       "      <th>3</th>\n",
       "      <td>43</td>\n",
       "      <td>29</td>\n",
       "      <td>62</td>\n",
       "      <td>0</td>\n",
       "    </tr>\n",
       "    <tr>\n",
       "      <th>4</th>\n",
       "      <td>60</td>\n",
       "      <td>34</td>\n",
       "      <td>60</td>\n",
       "      <td>1</td>\n",
       "    </tr>\n",
       "    <tr>\n",
       "      <th>5</th>\n",
       "      <td>47</td>\n",
       "      <td>36</td>\n",
       "      <td>65</td>\n",
       "      <td>0</td>\n",
       "    </tr>\n",
       "    <tr>\n",
       "      <th>6</th>\n",
       "      <td>41</td>\n",
       "      <td>35</td>\n",
       "      <td>64</td>\n",
       "      <td>0</td>\n",
       "    </tr>\n",
       "    <tr>\n",
       "      <th>7</th>\n",
       "      <td>46</td>\n",
       "      <td>27</td>\n",
       "      <td>53</td>\n",
       "      <td>0</td>\n",
       "    </tr>\n",
       "    <tr>\n",
       "      <th>8</th>\n",
       "      <td>45</td>\n",
       "      <td>27</td>\n",
       "      <td>63</td>\n",
       "      <td>1</td>\n",
       "    </tr>\n",
       "    <tr>\n",
       "      <th>9</th>\n",
       "      <td>50</td>\n",
       "      <td>19</td>\n",
       "      <td>60</td>\n",
       "      <td>0</td>\n",
       "    </tr>\n",
       "  </tbody>\n",
       "</table>\n",
       "</div>"
      ],
      "text/plain": [
       "   Credentials  Age  Test Scores  Performance\n",
       "0           53   30           57            0\n",
       "1           43   30           68            1\n",
       "2           57   37           63            1\n",
       "3           43   29           62            0\n",
       "4           60   34           60            1\n",
       "5           47   36           65            0\n",
       "6           41   35           64            0\n",
       "7           46   27           53            0\n",
       "8           45   27           63            1\n",
       "9           50   19           60            0"
      ]
     },
     "execution_count": 7,
     "metadata": {},
     "output_type": "execute_result"
    }
   ],
   "source": [
    "df.head(10)"
   ]
  },
  {
   "cell_type": "code",
   "execution_count": 8,
   "id": "b3ed2ab7",
   "metadata": {},
   "outputs": [
    {
     "data": {
      "text/html": [
       "<div>\n",
       "<style scoped>\n",
       "    .dataframe tbody tr th:only-of-type {\n",
       "        vertical-align: middle;\n",
       "    }\n",
       "\n",
       "    .dataframe tbody tr th {\n",
       "        vertical-align: top;\n",
       "    }\n",
       "\n",
       "    .dataframe thead th {\n",
       "        text-align: right;\n",
       "    }\n",
       "</style>\n",
       "<table border=\"1\" class=\"dataframe\">\n",
       "  <thead>\n",
       "    <tr style=\"text-align: right;\">\n",
       "      <th></th>\n",
       "      <th>Credentials</th>\n",
       "      <th>Age</th>\n",
       "      <th>Test Scores</th>\n",
       "      <th>Performance</th>\n",
       "    </tr>\n",
       "  </thead>\n",
       "  <tbody>\n",
       "    <tr>\n",
       "      <th>995</th>\n",
       "      <td>53</td>\n",
       "      <td>31</td>\n",
       "      <td>69</td>\n",
       "      <td>1</td>\n",
       "    </tr>\n",
       "    <tr>\n",
       "      <th>996</th>\n",
       "      <td>41</td>\n",
       "      <td>32</td>\n",
       "      <td>57</td>\n",
       "      <td>0</td>\n",
       "    </tr>\n",
       "    <tr>\n",
       "      <th>997</th>\n",
       "      <td>40</td>\n",
       "      <td>26</td>\n",
       "      <td>62</td>\n",
       "      <td>0</td>\n",
       "    </tr>\n",
       "    <tr>\n",
       "      <th>998</th>\n",
       "      <td>57</td>\n",
       "      <td>25</td>\n",
       "      <td>57</td>\n",
       "      <td>1</td>\n",
       "    </tr>\n",
       "    <tr>\n",
       "      <th>999</th>\n",
       "      <td>72</td>\n",
       "      <td>34</td>\n",
       "      <td>60</td>\n",
       "      <td>1</td>\n",
       "    </tr>\n",
       "  </tbody>\n",
       "</table>\n",
       "</div>"
      ],
      "text/plain": [
       "     Credentials  Age  Test Scores  Performance\n",
       "995           53   31           69            1\n",
       "996           41   32           57            0\n",
       "997           40   26           62            0\n",
       "998           57   25           57            1\n",
       "999           72   34           60            1"
      ]
     },
     "execution_count": 8,
     "metadata": {},
     "output_type": "execute_result"
    }
   ],
   "source": [
    "df.tail()"
   ]
  },
  {
   "cell_type": "code",
   "execution_count": 9,
   "id": "5359dc55",
   "metadata": {},
   "outputs": [
    {
     "data": {
      "text/plain": [
       "Credentials    int64\n",
       "Age            int64\n",
       "Test Scores    int64\n",
       "Performance    int64\n",
       "dtype: object"
      ]
     },
     "execution_count": 9,
     "metadata": {},
     "output_type": "execute_result"
    }
   ],
   "source": [
    "df.dtypes"
   ]
  },
  {
   "cell_type": "code",
   "execution_count": 10,
   "id": "ea9a7924",
   "metadata": {},
   "outputs": [
    {
     "data": {
      "text/plain": [
       "51"
      ]
     },
     "execution_count": 10,
     "metadata": {},
     "output_type": "execute_result"
    }
   ],
   "source": [
    "df.duplicated().sum()"
   ]
  },
  {
   "cell_type": "code",
   "execution_count": 11,
   "id": "16aff77a",
   "metadata": {},
   "outputs": [
    {
     "data": {
      "text/html": [
       "<div>\n",
       "<style scoped>\n",
       "    .dataframe tbody tr th:only-of-type {\n",
       "        vertical-align: middle;\n",
       "    }\n",
       "\n",
       "    .dataframe tbody tr th {\n",
       "        vertical-align: top;\n",
       "    }\n",
       "\n",
       "    .dataframe thead th {\n",
       "        text-align: right;\n",
       "    }\n",
       "</style>\n",
       "<table border=\"1\" class=\"dataframe\">\n",
       "  <thead>\n",
       "    <tr style=\"text-align: right;\">\n",
       "      <th></th>\n",
       "      <th>Credentials</th>\n",
       "      <th>Age</th>\n",
       "      <th>Test Scores</th>\n",
       "      <th>Performance</th>\n",
       "    </tr>\n",
       "  </thead>\n",
       "  <tbody>\n",
       "    <tr>\n",
       "      <th>count</th>\n",
       "      <td>1000.000000</td>\n",
       "      <td>1000.000000</td>\n",
       "      <td>1000.000000</td>\n",
       "      <td>1000.000000</td>\n",
       "    </tr>\n",
       "    <tr>\n",
       "      <th>mean</th>\n",
       "      <td>50.089000</td>\n",
       "      <td>30.093000</td>\n",
       "      <td>60.228000</td>\n",
       "      <td>0.497000</td>\n",
       "    </tr>\n",
       "    <tr>\n",
       "      <th>std</th>\n",
       "      <td>5.953362</td>\n",
       "      <td>4.934846</td>\n",
       "      <td>5.997999</td>\n",
       "      <td>0.500241</td>\n",
       "    </tr>\n",
       "    <tr>\n",
       "      <th>min</th>\n",
       "      <td>33.000000</td>\n",
       "      <td>12.000000</td>\n",
       "      <td>35.000000</td>\n",
       "      <td>0.000000</td>\n",
       "    </tr>\n",
       "    <tr>\n",
       "      <th>25%</th>\n",
       "      <td>46.000000</td>\n",
       "      <td>27.000000</td>\n",
       "      <td>56.000000</td>\n",
       "      <td>0.000000</td>\n",
       "    </tr>\n",
       "    <tr>\n",
       "      <th>50%</th>\n",
       "      <td>50.000000</td>\n",
       "      <td>30.000000</td>\n",
       "      <td>60.000000</td>\n",
       "      <td>0.000000</td>\n",
       "    </tr>\n",
       "    <tr>\n",
       "      <th>75%</th>\n",
       "      <td>54.000000</td>\n",
       "      <td>33.000000</td>\n",
       "      <td>65.000000</td>\n",
       "      <td>1.000000</td>\n",
       "    </tr>\n",
       "    <tr>\n",
       "      <th>max</th>\n",
       "      <td>72.000000</td>\n",
       "      <td>47.000000</td>\n",
       "      <td>82.000000</td>\n",
       "      <td>1.000000</td>\n",
       "    </tr>\n",
       "  </tbody>\n",
       "</table>\n",
       "</div>"
      ],
      "text/plain": [
       "       Credentials          Age  Test Scores  Performance\n",
       "count  1000.000000  1000.000000  1000.000000  1000.000000\n",
       "mean     50.089000    30.093000    60.228000     0.497000\n",
       "std       5.953362     4.934846     5.997999     0.500241\n",
       "min      33.000000    12.000000    35.000000     0.000000\n",
       "25%      46.000000    27.000000    56.000000     0.000000\n",
       "50%      50.000000    30.000000    60.000000     0.000000\n",
       "75%      54.000000    33.000000    65.000000     1.000000\n",
       "max      72.000000    47.000000    82.000000     1.000000"
      ]
     },
     "execution_count": 11,
     "metadata": {},
     "output_type": "execute_result"
    }
   ],
   "source": [
    "df.describe()"
   ]
  },
  {
   "cell_type": "code",
   "execution_count": 12,
   "id": "f43ad809",
   "metadata": {},
   "outputs": [
    {
     "name": "stdout",
     "output_type": "stream",
     "text": [
      "29    106\n",
      "30     90\n",
      "27     71\n",
      "31     67\n",
      "28     66\n",
      "32     66\n",
      "33     65\n",
      "34     59\n",
      "26     56\n",
      "36     49\n",
      "25     45\n",
      "35     39\n",
      "24     39\n",
      "23     31\n",
      "38     29\n",
      "37     19\n",
      "22     18\n",
      "40     18\n",
      "39     16\n",
      "21     14\n",
      "19      7\n",
      "20      7\n",
      "43      5\n",
      "41      4\n",
      "42      3\n",
      "16      3\n",
      "18      2\n",
      "17      2\n",
      "15      1\n",
      "47      1\n",
      "46      1\n",
      "12      1\n",
      "Name: Age, dtype: int64\n",
      "----------------------------------------------------------\n",
      "----------------------------------------------------------\n",
      "49    71\n",
      "52    66\n",
      "46    65\n",
      "47    62\n",
      "45    61\n",
      "54    59\n",
      "51    57\n",
      "50    55\n",
      "48    55\n",
      "53    53\n",
      "55    51\n",
      "56    41\n",
      "58    38\n",
      "43    34\n",
      "57    30\n",
      "42    29\n",
      "44    26\n",
      "41    21\n",
      "60    20\n",
      "40    19\n",
      "59    17\n",
      "61    12\n",
      "36    10\n",
      "38     9\n",
      "62     8\n",
      "63     7\n",
      "39     6\n",
      "64     4\n",
      "65     3\n",
      "34     2\n",
      "37     2\n",
      "35     2\n",
      "68     1\n",
      "33     1\n",
      "66     1\n",
      "67     1\n",
      "72     1\n",
      "Name: Credentials, dtype: int64\n",
      "----------------------------------------------------------\n",
      "59    86\n",
      "60    66\n",
      "61    63\n",
      "64    57\n",
      "57    55\n",
      "62    55\n",
      "65    53\n",
      "63    51\n",
      "56    50\n",
      "67    47\n",
      "66    44\n",
      "53    42\n",
      "54    42\n",
      "55    41\n",
      "58    41\n",
      "52    35\n",
      "68    25\n",
      "69    24\n",
      "51    21\n",
      "70    21\n",
      "50    13\n",
      "71    11\n",
      "48     9\n",
      "72     8\n",
      "49     8\n",
      "73     8\n",
      "47     8\n",
      "75     3\n",
      "45     3\n",
      "74     3\n",
      "76     2\n",
      "82     1\n",
      "79     1\n",
      "43     1\n",
      "39     1\n",
      "35     1\n",
      "Name: Test Scores, dtype: int64\n",
      "----------------------------------------------------------\n",
      "0    503\n",
      "1    497\n",
      "Name: Performance, dtype: int64\n",
      "----------------------------------------------------------\n"
     ]
    }
   ],
   "source": [
    "Age_counts = df['Age'].value_counts()\n",
    "Credentials_counts = df['Credentials'].value_counts()\n",
    "Test_Scores_counts = df['Test Scores'].value_counts()\n",
    "Performance_counts = df['Performance'].value_counts()\n",
    "\n",
    "print(Age_counts)\n",
    "print('----------------------------------------------------------' )\n",
    "print('----------------------------------------------------------')\n",
    "print(Credentials_counts)\n",
    "print('----------------------------------------------------------')\n",
    "print(Test_Scores_counts)\n",
    "print('----------------------------------------------------------')\n",
    "print(Performance_counts)\n",
    "print('----------------------------------------------------------')\n"
   ]
  },
  {
   "cell_type": "code",
   "execution_count": 13,
   "id": "7715062f",
   "metadata": {},
   "outputs": [
    {
     "name": "stdout",
     "output_type": "stream",
     "text": [
      "0.4943523921641458\n"
     ]
    }
   ],
   "source": [
    "# correlation between Credentials and Performance\n",
    "print(df['Credentials'].corr(df['Performance']))"
   ]
  },
  {
   "cell_type": "code",
   "execution_count": 14,
   "id": "e7273d7d",
   "metadata": {},
   "outputs": [
    {
     "name": "stdout",
     "output_type": "stream",
     "text": [
      "0.015319053562974425\n"
     ]
    }
   ],
   "source": [
    "# correlation between Age and Performance\n",
    "print(df['Age'].corr(df['Performance']))"
   ]
  },
  {
   "cell_type": "code",
   "execution_count": 15,
   "id": "b8cd644c",
   "metadata": {},
   "outputs": [
    {
     "name": "stdout",
     "output_type": "stream",
     "text": [
      "0.5743837220091127\n"
     ]
    }
   ],
   "source": [
    "# correlation between Age and Performance\n",
    "print(df['Test Scores'].corr(df['Performance']))"
   ]
  },
  {
   "cell_type": "code",
   "execution_count": 16,
   "id": "729d09f9",
   "metadata": {},
   "outputs": [
    {
     "name": "stdout",
     "output_type": "stream",
     "text": [
      "             Credentials       Age  Test Scores  Performance\n",
      "Credentials     1.000000  0.001217     0.042882     0.494352\n",
      "Age             0.001217  1.000000     0.046291     0.015319\n",
      "Test Scores     0.042882  0.046291     1.000000     0.574384\n",
      "Performance     0.494352  0.015319     0.574384     1.000000\n"
     ]
    }
   ],
   "source": [
    "# pair-wise correlation between columns\n",
    "print(df.corr())"
   ]
  },
  {
   "cell_type": "code",
   "execution_count": 17,
   "id": "eee58d42",
   "metadata": {},
   "outputs": [
    {
     "name": "stdout",
     "output_type": "stream",
     "text": [
      "Slope: 0.041538783812129824\n",
      "Intercept: -1.583636142365771\n",
      "R-value: 0.49435239216414584\n",
      "P-value: 9.529844960435711e-63\n",
      "Standard Error: 0.0023120773346226604\n"
     ]
    }
   ],
   "source": [
    "# Select the 'age' and 'target_performance' variables\n",
    "Cred = df['Credentials'] \n",
    "per_t = df['Performance'] \n",
    "\n",
    "# Perform linear regression\n",
    "result = stats.linregress(Cred, per_t)\n",
    "\n",
    "# Access the regression results\n",
    "slope = result.slope\n",
    "intercept = result.intercept\n",
    "rvalue = result.rvalue\n",
    "pvalue = result.pvalue\n",
    "stderr = result.stderr\n",
    "\n",
    "# Print the regression results\n",
    "print(\"Slope:\", slope)\n",
    "print(\"Intercept:\", intercept)\n",
    "print(\"R-value:\", rvalue)\n",
    "print(\"P-value:\", pvalue)\n",
    "print(\"Standard Error:\", stderr)\n"
   ]
  },
  {
   "cell_type": "code",
   "execution_count": 18,
   "id": "ba940dd6",
   "metadata": {},
   "outputs": [
    {
     "name": "stdout",
     "output_type": "stream",
     "text": [
      "Slope: 0.04320345092573166\n",
      "Intercept: 58.06398234658103\n",
      "R-value: 0.04288193309609918\n",
      "P-value: 0.17542614498202744\n",
      "Standard Error: 0.031862448126708\n"
     ]
    }
   ],
   "source": [
    "# Select the 'age' and 'target_performance' variables\n",
    "Test_scores = df['Test Scores'] \n",
    "per_t = df['Performance'] \n",
    "\n",
    "# Perform linear regression\n",
    "result = stats.linregress(Cred, Test_scores)\n",
    "\n",
    "# Access the regression results\n",
    "slope = result.slope\n",
    "intercept = result.intercept\n",
    "rvalue = result.rvalue\n",
    "pvalue = result.pvalue\n",
    "stderr = result.stderr\n",
    "\n",
    "# Print the regression results\n",
    "print(\"Slope:\", slope)\n",
    "print(\"Intercept:\", intercept)\n",
    "print(\"R-value:\", rvalue)\n",
    "print(\"P-value:\", pvalue)\n",
    "print(\"Standard Error:\", stderr)"
   ]
  },
  {
   "cell_type": "code",
   "execution_count": 19,
   "id": "63a1b9a7",
   "metadata": {},
   "outputs": [
    {
     "name": "stdout",
     "output_type": "stream",
     "text": [
      "Slope: 0.001552879601252054\n",
      "Intercept: 0.45026919415952193\n",
      "R-value: 0.015319053562974428\n",
      "P-value: 0.6284898343405203\n",
      "Standard Error: 0.003208408181158814\n"
     ]
    }
   ],
   "source": [
    "# Select the 'age' and 'target_performance' variables\n",
    "Ager = df['Age'] \n",
    "per_t = df['Performance'] \n",
    "\n",
    "# Perform linear regression\n",
    "result = stats.linregress(Ager, per_t)\n",
    "\n",
    "# Access the regression results\n",
    "slope = result.slope\n",
    "intercept = result.intercept\n",
    "rvalue = result.rvalue\n",
    "pvalue = result.pvalue\n",
    "stderr = result.stderr\n",
    "\n",
    "# Print the regression results\n",
    "print(\"Slope:\", slope)\n",
    "print(\"Intercept:\", intercept)\n",
    "print(\"R-value:\", rvalue)\n",
    "print(\"P-value:\", pvalue)\n",
    "print(\"Standard Error:\", stderr)"
   ]
  },
  {
   "cell_type": "code",
   "execution_count": 20,
   "id": "7fe5e096",
   "metadata": {},
   "outputs": [
    {
     "name": "stdout",
     "output_type": "stream",
     "text": [
      "                            OLS Regression Results                            \n",
      "==============================================================================\n",
      "Dep. Variable:            Performance   R-squared:                       0.551\n",
      "Model:                            OLS   Adj. R-squared:                  0.550\n",
      "Method:                 Least Squares   F-statistic:                     407.6\n",
      "Date:                Tue, 30 May 2023   Prob (F-statistic):          1.13e-172\n",
      "Time:                        13:53:09   Log-Likelihood:                -325.32\n",
      "No. Observations:                1000   AIC:                             658.6\n",
      "Df Residuals:                     996   BIC:                             678.3\n",
      "Df Model:                           3                                         \n",
      "Covariance Type:            nonrobust                                         \n",
      "===============================================================================\n",
      "                  coef    std err          t      P>|t|      [0.025      0.975]\n",
      "-------------------------------------------------------------------------------\n",
      "const          -4.2366      0.149    -28.383      0.000      -4.530      -3.944\n",
      "Credentials     0.0395      0.002     22.145      0.000       0.036       0.043\n",
      "Age            -0.0011      0.002     -0.514      0.607      -0.005       0.003\n",
      "Test Scores     0.0463      0.002     26.076      0.000       0.043       0.050\n",
      "==============================================================================\n",
      "Omnibus:                       88.935   Durbin-Watson:                   2.053\n",
      "Prob(Omnibus):                  0.000   Jarque-Bera (JB):               27.990\n",
      "Skew:                           0.001   Prob(JB):                     8.36e-07\n",
      "Kurtosis:                       2.180   Cond. No.                     1.18e+03\n",
      "==============================================================================\n",
      "\n",
      "Notes:\n",
      "[1] Standard Errors assume that the covariance matrix of the errors is correctly specified.\n",
      "[2] The condition number is large, 1.18e+03. This might indicate that there are\n",
      "strong multicollinearity or other numerical problems.\n"
     ]
    },
    {
     "name": "stderr",
     "output_type": "stream",
     "text": [
      "C:\\Users\\mphod\\anaconda3\\lib\\site-packages\\statsmodels\\tsa\\tsatools.py:142: FutureWarning: In a future version of pandas all arguments of concat except for the argument 'objs' will be keyword-only\n",
      "  x = pd.concat(x[::order], 1)\n"
     ]
    }
   ],
   "source": [
    "#Mulitple regression\n",
    "\n",
    "# Select the columns for multiple regression\n",
    "X = df[['Credentials', 'Age', 'Test Scores']]  # Replace with the actual column names for the predictors\n",
    "y = df['Performance']  # Replace with the actual column name for the target variable\n",
    "\n",
    "# Add a constant term to the predictors\n",
    "X = sm.add_constant(X)\n",
    "\n",
    "# Create a linear regression model\n",
    "model = sm.OLS(y, X)\n",
    "\n",
    "# Fit the model to the data\n",
    "results = model.fit()\n",
    "\n",
    "# Print the regression results\n",
    "print(results.summary())\n"
   ]
  },
  {
   "cell_type": "markdown",
   "id": "6ac0fce0",
   "metadata": {},
   "source": [
    "# DATA EXPLORATION"
   ]
  },
  {
   "cell_type": "code",
   "execution_count": 21,
   "id": "4f75f43a",
   "metadata": {},
   "outputs": [
    {
     "data": {
      "image/png": "[encoded data removed]",
      "text/plain": [
       "<Figure size 432x288 with 1 Axes>"
      ]
     },
     "metadata": {
      "needs_background": "light"
     },
     "output_type": "display_data"
    }
   ],
   "source": [
    "# Extract the values from the columns\n",
    "age = df['Age']\n",
    "credit_score = df['Credentials']\n",
    "test_score = df['Test Scores']\n",
    "\n",
    "# Create a 3D scatter plot\n",
    "fig = plt.figure()\n",
    "ax = fig.add_subplot(111, projection='3d')\n",
    "ax.scatter(age, credit_score, test_score)\n",
    "\n",
    "# Set labels for each axis\n",
    "ax.set_xlabel('Age')\n",
    "ax.set_ylabel('Credit Score')\n",
    "ax.set_zlabel('Test Score')\n",
    "\n",
    "# Show the plot\n",
    "plt.show()"
   ]
  },
  {
   "cell_type": "code",
   "execution_count": 22,
   "id": "4a59a94e",
   "metadata": {},
   "outputs": [
    {
     "data": {
      "image/png": "[encoded data removed]",
      "text/plain": [
       "<Figure size 432x288 with 1 Axes>"
      ]
     },
     "metadata": {
      "needs_background": "light"
     },
     "output_type": "display_data"
    }
   ],
   "source": [
    "age = df['Age']\n",
    "credit_score = df['Performance']\n",
    "test_score = df['Test Scores']\n",
    "\n",
    "# Create a 3D scatter plot\n",
    "fig = plt.figure()\n",
    "ax = fig.add_subplot(111, projection='3d')\n",
    "ax.scatter(age, credit_score, test_score)\n",
    "\n",
    "# Set labels for each axis\n",
    "ax.set_xlabel('Age')\n",
    "ax.set_ylabel('Performance')\n",
    "ax.set_zlabel('Test Score')\n",
    "\n",
    "# Show the plot\n",
    "plt.show()"
   ]
  },
  {
   "cell_type": "code",
   "execution_count": 23,
   "id": "21cc3a80",
   "metadata": {},
   "outputs": [
    {
     "data": {
      "image/png": "[encoded data removed]",
      "text/plain": [
       "<Figure size 432x288 with 1 Axes>"
      ]
     },
     "metadata": {
      "needs_background": "light"
     },
     "output_type": "display_data"
    }
   ],
   "source": [
    "credit_score = df['Credentials']\n",
    "test_score = df['Performance']\n",
    "\n",
    "# Create a 3D scatter plot\n",
    "fig = plt.figure()\n",
    "ax = fig.add_subplot(111, projection='3d')\n",
    "ax.scatter(age, credit_score, test_score)\n",
    "\n",
    "# Set labels for each axis\n",
    "ax.set_ylabel('Performance')\n",
    "ax.set_xlabel('Age')\n",
    "\n",
    "\n",
    "\n",
    "# Show the plot\n",
    "plt.show()"
   ]
  },
  {
   "cell_type": "code",
   "execution_count": 24,
   "id": "e45871f6",
   "metadata": {},
   "outputs": [
    {
     "data": {
      "image/png": "[encoded data removed]",
      "text/plain": [
       "<Figure size 432x288 with 2 Axes>"
      ]
     },
     "metadata": {
      "needs_background": "light"
     },
     "output_type": "display_data"
    }
   ],
   "source": [
    "# visualiZing the correlations\n",
    "corr_matrix = df[['Credentials', 'Age', 'Test Scores', 'Performance']].corr()\n",
    "sns.heatmap(corr_matrix, annot=True, cmap='coolwarm')\n",
    "plt.show()"
   ]
  },
  {
   "cell_type": "code",
   "execution_count": 25,
   "id": "a4cff730",
   "metadata": {},
   "outputs": [
    {
     "data": {
      "image/png": "[encoded data removed]",
      "text/plain": [
       "<Figure size 432x288 with 1 Axes>"
      ]
     },
     "metadata": {
      "needs_background": "light"
     },
     "output_type": "display_data"
    },
    {
     "data": {
      "image/png": "[encoded data removed]",
      "text/plain": [
       "<Figure size 432x288 with 1 Axes>"
      ]
     },
     "metadata": {
      "needs_background": "light"
     },
     "output_type": "display_data"
    },
    {
     "data": {
      "image/png": "[encoded data removed]",
      "text/plain": [
       "<Figure size 432x288 with 1 Axes>"
      ]
     },
     "metadata": {
      "needs_background": "light"
     },
     "output_type": "display_data"
    }
   ],
   "source": [
    "# Explore the predictor variable\n",
    "sns.histplot(data=df, x='Credentials', kde=True)\n",
    "plt.show()\n",
    "\n",
    "#\n",
    "sns.histplot(data=df, x='Age', kde=True)\n",
    "plt.show()\n",
    "\n",
    "#\n",
    "sns.histplot(data=df, x='Test Scores', kde=True)\n",
    "plt.show()\n",
    "\n"
   ]
  },
  {
   "cell_type": "code",
   "execution_count": 26,
   "id": "a3320555",
   "metadata": {},
   "outputs": [
    {
     "data": {
      "image/png": "[encoded data removed]",
      "text/plain": [
       "<Figure size 432x288 with 1 Axes>"
      ]
     },
     "metadata": {
      "needs_background": "light"
     },
     "output_type": "display_data"
    },
    {
     "data": {
      "image/png": "[encoded data removed]",
      "text/plain": [
       "<Figure size 432x288 with 1 Axes>"
      ]
     },
     "metadata": {
      "needs_background": "light"
     },
     "output_type": "display_data"
    }
   ],
   "source": [
    "# Filter dataset for individuals with heart disease\n",
    "df_heart = df[df[\"Performance\"] == 1]\n",
    "\n",
    "# Histogram of age distributionabs\n",
    "plt.hist(df_heart[\"Credentials\"])\n",
    "plt.title(\"Distribution of Credenitails and Performace\")\n",
    "plt.xlabel(\"Credentials (amount)\")\n",
    "plt.ylabel(\"Count\")\n",
    "plt.show()\n",
    "\n",
    "# Filter dataset for individuals with heart disease\n",
    "df_heart = df[df[\"Performance\"] == 1]\n",
    "\n",
    "# Histogram of age distributionabs\n",
    "plt.hist(df_heart[\"Test Scores\"])\n",
    "plt.title(\"Distribution of Credenitails and Performace\")\n",
    "plt.xlabel(\"Test Scores (amount)\")\n",
    "plt.ylabel(\"Count\")\n",
    "plt.show()"
   ]
  },
  {
   "cell_type": "code",
   "execution_count": 27,
   "id": "cdc1d848",
   "metadata": {},
   "outputs": [
    {
     "data": {
      "image/png": "[encoded data removed]",
      "text/plain": [
       "<Figure size 432x288 with 1 Axes>"
      ]
     },
     "metadata": {},
     "output_type": "display_data"
    }
   ],
   "source": [
    "# Distribution of different types of chest pain among patients with heart disease\n",
    "df_cp = df[df[\"Performance\"] == 1][\"Credentials\"].value_counts()\n",
    "df_cp.plot(kind=\"pie\")\n",
    "plt.title(\"distribution of Credentials and performance\")\n",
    "plt.show()"
   ]
  },
  {
   "cell_type": "code",
   "execution_count": 28,
   "id": "c6561563",
   "metadata": {},
   "outputs": [
    {
     "data": {
      "text/plain": [
       "Text(0.5, 1.0, 'Disribution of Credentials and Performance')"
      ]
     },
     "execution_count": 28,
     "metadata": {},
     "output_type": "execute_result"
    },
    {
     "data": {
      "image/png": "[encoded data removed]",
      "text/plain": [
       "<Figure size 431.25x360 with 1 Axes>"
      ]
     },
     "metadata": {
      "needs_background": "light"
     },
     "output_type": "display_data"
    }
   ],
   "source": [
    "sns.displot(data=df,x='Credentials',hue='Performance',palette='flare',kind='kde',fill=True)\n",
    "plt.title('Disribution of Credentials and Performance')"
   ]
  },
  {
   "cell_type": "code",
   "execution_count": 29,
   "id": "ad128c53",
   "metadata": {},
   "outputs": [
    {
     "data": {
      "image/png": "[encoded data removed]",
      "text/plain": [
       "<Figure size 432x288 with 1 Axes>"
      ]
     },
     "metadata": {
      "needs_background": "light"
     },
     "output_type": "display_data"
    }
   ],
   "source": [
    "# Filter dataset for individuals with heart disease\n",
    "df_heart = df[df[\"Performance\"] == 1]\n",
    "\n",
    "# Histogram of age distributionabs\n",
    "plt.hist(df_heart[\"Age\"])\n",
    "plt.title(\"Distribution of Age and Performace\")\n",
    "plt.xlabel(\"Age (amount)\")\n",
    "plt.ylabel(\"Count\")\n",
    "plt.show()\n",
    "\n"
   ]
  },
  {
   "cell_type": "code",
   "execution_count": 30,
   "id": "f21a340c",
   "metadata": {},
   "outputs": [
    {
     "data": {
      "image/png": "[encoded data removed]",
      "text/plain": [
       "<Figure size 432x288 with 1 Axes>"
      ]
     },
     "metadata": {},
     "output_type": "display_data"
    }
   ],
   "source": [
    "# Distribution of different types of chest pain among patients with heart disease\n",
    "df_cp = df[df[\"Performance\"] == 1][\"Age\"].value_counts()\n",
    "df_cp.plot(kind=\"pie\")\n",
    "plt.title(\"distribution of Age and performance\")\n",
    "plt.show()"
   ]
  },
  {
   "cell_type": "code",
   "execution_count": 31,
   "id": "dfd10411",
   "metadata": {},
   "outputs": [
    {
     "ename": "NameError",
     "evalue": "name 'Age' is not defined",
     "output_type": "error",
     "traceback": [
      "\u001b[1;31m---------------------------------------------------------------------------\u001b[0m",
      "\u001b[1;31mNameError\u001b[0m                                 Traceback (most recent call last)",
      "\u001b[1;32m~\\AppData\\Local\\Temp/ipykernel_9384/3845557758.py\u001b[0m in \u001b[0;36m<module>\u001b[1;34m\u001b[0m\n\u001b[0;32m     11\u001b[0m \u001b[1;31m# Create a scatter plot with the regression line\u001b[0m\u001b[1;33m\u001b[0m\u001b[1;33m\u001b[0m\u001b[0m\n\u001b[0;32m     12\u001b[0m \u001b[0mplt\u001b[0m\u001b[1;33m.\u001b[0m\u001b[0mscatter\u001b[0m\u001b[1;33m(\u001b[0m\u001b[0mTest_scores\u001b[0m\u001b[1;33m,\u001b[0m \u001b[0mper_t\u001b[0m\u001b[1;33m,\u001b[0m \u001b[0mlabel\u001b[0m\u001b[1;33m=\u001b[0m\u001b[1;34m'Data Points'\u001b[0m\u001b[1;33m)\u001b[0m\u001b[1;33m\u001b[0m\u001b[1;33m\u001b[0m\u001b[0m\n\u001b[1;32m---> 13\u001b[1;33m \u001b[0mplt\u001b[0m\u001b[1;33m.\u001b[0m\u001b[0mplot\u001b[0m\u001b[1;33m(\u001b[0m\u001b[0mAge\u001b[0m\u001b[1;33m,\u001b[0m \u001b[0mregression_line\u001b[0m\u001b[1;33m,\u001b[0m \u001b[0mcolor\u001b[0m\u001b[1;33m=\u001b[0m\u001b[1;34m'red'\u001b[0m\u001b[1;33m,\u001b[0m \u001b[0mlabel\u001b[0m\u001b[1;33m=\u001b[0m\u001b[1;34m'Linear Regression'\u001b[0m\u001b[1;33m)\u001b[0m\u001b[1;33m\u001b[0m\u001b[1;33m\u001b[0m\u001b[0m\n\u001b[0m\u001b[0;32m     14\u001b[0m \u001b[0mplt\u001b[0m\u001b[1;33m.\u001b[0m\u001b[0mxlabel\u001b[0m\u001b[1;33m(\u001b[0m\u001b[1;34m'Test Scores'\u001b[0m\u001b[1;33m)\u001b[0m\u001b[1;33m\u001b[0m\u001b[1;33m\u001b[0m\u001b[0m\n\u001b[0;32m     15\u001b[0m \u001b[0mplt\u001b[0m\u001b[1;33m.\u001b[0m\u001b[0mylabel\u001b[0m\u001b[1;33m(\u001b[0m\u001b[1;34m'Performance'\u001b[0m\u001b[1;33m)\u001b[0m\u001b[1;33m\u001b[0m\u001b[1;33m\u001b[0m\u001b[0m\n",
      "\u001b[1;31mNameError\u001b[0m: name 'Age' is not defined"
     ]
    },
    {
     "data": {
      "image/png": "[encoded data removed]",
      "text/plain": [
       "<Figure size 432x288 with 1 Axes>"
      ]
     },
     "metadata": {
      "needs_background": "light"
     },
     "output_type": "display_data"
    }
   ],
   "source": [
    "# Select the 'age' and 'target_performance' variables\n",
    "Test_scores = df['Test Scores'] \n",
    "per_t = df['Performance']\n",
    "\n",
    "# Perform linear regression\n",
    "result = stats.linregress(Test_scores, per_t)\n",
    "\n",
    "# Get the regression line\n",
    "regression_line = result.intercept + result.slope * per_t\n",
    "\n",
    "# Create a scatter plot with the regression line\n",
    "plt.scatter(Test_scores, per_t, label='Data Points')\n",
    "plt.plot(Age, regression_line, color='red', label='Linear Regression')\n",
    "plt.xlabel('Test Scores')\n",
    "plt.ylabel('Performance')\n",
    "plt.title('Linear Regression: Age vs Target Performance')\n",
    "plt.legend()\n",
    "plt.show()"
   ]
  },
  {
   "cell_type": "code",
   "execution_count": 32,
   "id": "9f284e97",
   "metadata": {},
   "outputs": [
    {
     "name": "stderr",
     "output_type": "stream",
     "text": [
      "C:\\Users\\mphod\\anaconda3\\lib\\site-packages\\statsmodels\\tsa\\tsatools.py:142: FutureWarning: In a future version of pandas all arguments of concat except for the argument 'objs' will be keyword-only\n",
      "  x = pd.concat(x[::order], 1)\n"
     ]
    },
    {
     "data": {
      "image/png": "[encoded data removed]",
      "text/plain": [
       "<Figure size 432x288 with 1 Axes>"
      ]
     },
     "metadata": {
      "needs_background": "light"
     },
     "output_type": "display_data"
    }
   ],
   "source": [
    "# Select the columns for multiple regression\n",
    "X = df[['Credentials', 'Age', 'Test Scores']]  # Replace with the actual column names for the predictors\n",
    "y = df['Performance']  # Replace with the actual column name for the target variable\n",
    "\n",
    "# Add a constant term to the predictors\n",
    "X = sm.add_constant(X)\n",
    "\n",
    "# Create a linear regression model\n",
    "model = sm.OLS(y, X)\n",
    "\n",
    "# Fit the model to the data\n",
    "results = model.fit()\n",
    "\n",
    "# Get the predicted values\n",
    "y_pred = results.predict(X)\n",
    "\n",
    "# Create a scatter plot of the actual vs predicted values\n",
    "plt.scatter(y, y_pred)\n",
    "plt.xlabel('Actual Performance')\n",
    "plt.ylabel('Predicted Performance')\n",
    "plt.title('Multiple Regression: Actual vs Predicted Performance')\n",
    "plt.show()"
   ]
  },
  {
   "cell_type": "markdown",
   "id": "8a3c89db",
   "metadata": {},
   "source": [
    "# FEATURE SELCTION"
   ]
  },
  {
   "cell_type": "code",
   "execution_count": 33,
   "id": "f5b9957a",
   "metadata": {},
   "outputs": [
    {
     "name": "stdout",
     "output_type": "stream",
     "text": [
      "Selected Features: ['Credentials', 'Test Scores']\n"
     ]
    }
   ],
   "source": [
    "from sklearn.feature_selection import SelectKBest, f_regression\n",
    "\n",
    "# Select the three columns for feature selection\n",
    "X = df[['Credentials', 'Age', 'Test Scores']]  # Replace with the actual column names\n",
    "\n",
    "# Select the target variable\n",
    "y = df['Performance']  # Replace with the actual column name\n",
    "\n",
    "# Perform feature selection\n",
    "selector = SelectKBest(score_func=f_regression, k=2)  # Select top 2 features\n",
    "X_selected = selector.fit_transform(X, y)\n",
    "\n",
    "# Get the selected feature names\n",
    "selected_feature_names = X.columns[selector.get_support(indices=True)].tolist()\n",
    "\n",
    "# Print the selected feature names\n",
    "print(\"Selected Features:\", selected_feature_names)\n"
   ]
  },
  {
   "cell_type": "code",
   "execution_count": 35,
   "id": "318a6b0f",
   "metadata": {},
   "outputs": [
    {
     "data": {
      "image/png": "[encoded data removed]",
      "text/plain": [
       "<Figure size 360x360 with 2 Axes>"
      ]
     },
     "metadata": {
      "needs_background": "light"
     },
     "output_type": "display_data"
    }
   ],
   "source": [
    "import pandas as pd\n",
    "import numpy as np\n",
    "import matplotlib.pyplot as plt\n",
    "import seaborn as sns\n",
    "from sklearn.feature_selection import SelectKBest, chi2\n",
    "\n",
    "# Assuming df1 is your DataFrame containing the data\n",
    "features = df[['Age', 'Credentials', 'Test Scores']]\n",
    "target = df['Performance']\n",
    "\n",
    "best_features = SelectKBest(score_func=chi2, k='all')\n",
    "fit = best_features.fit(features, target)\n",
    "\n",
    "featureScores = pd.DataFrame(data=fit.scores_, index=features.columns, columns=['Chi Squared Score'])\n",
    "\n",
    "plt.subplots(figsize=(5, 5))\n",
    "sns.heatmap(featureScores.sort_values(by='Chi Squared Score', ascending=False),\n",
    "            annot=True,\n",
    "            linewidths=0.6,\n",
    "            linecolor='black',\n",
    "            fmt='.2f')\n",
    "plt.title('Selection of Numerical Features')\n",
    "\n",
    "plt.show()\n"
   ]
  },
  {
   "cell_type": "code",
   "execution_count": 36,
   "id": "182894b8",
   "metadata": {},
   "outputs": [
    {
     "data": {
      "text/html": [
       "<div>\n",
       "<style scoped>\n",
       "    .dataframe tbody tr th:only-of-type {\n",
       "        vertical-align: middle;\n",
       "    }\n",
       "\n",
       "    .dataframe tbody tr th {\n",
       "        vertical-align: top;\n",
       "    }\n",
       "\n",
       "    .dataframe thead th {\n",
       "        text-align: right;\n",
       "    }\n",
       "</style>\n",
       "<table border=\"1\" class=\"dataframe\">\n",
       "  <thead>\n",
       "    <tr style=\"text-align: right;\">\n",
       "      <th></th>\n",
       "      <th>Credentials</th>\n",
       "      <th>Test Scores</th>\n",
       "      <th>Performance</th>\n",
       "    </tr>\n",
       "  </thead>\n",
       "  <tbody>\n",
       "    <tr>\n",
       "      <th>0</th>\n",
       "      <td>53</td>\n",
       "      <td>57</td>\n",
       "      <td>0</td>\n",
       "    </tr>\n",
       "    <tr>\n",
       "      <th>1</th>\n",
       "      <td>43</td>\n",
       "      <td>68</td>\n",
       "      <td>1</td>\n",
       "    </tr>\n",
       "    <tr>\n",
       "      <th>2</th>\n",
       "      <td>57</td>\n",
       "      <td>63</td>\n",
       "      <td>1</td>\n",
       "    </tr>\n",
       "    <tr>\n",
       "      <th>3</th>\n",
       "      <td>43</td>\n",
       "      <td>62</td>\n",
       "      <td>0</td>\n",
       "    </tr>\n",
       "    <tr>\n",
       "      <th>4</th>\n",
       "      <td>60</td>\n",
       "      <td>60</td>\n",
       "      <td>1</td>\n",
       "    </tr>\n",
       "    <tr>\n",
       "      <th>...</th>\n",
       "      <td>...</td>\n",
       "      <td>...</td>\n",
       "      <td>...</td>\n",
       "    </tr>\n",
       "    <tr>\n",
       "      <th>995</th>\n",
       "      <td>53</td>\n",
       "      <td>69</td>\n",
       "      <td>1</td>\n",
       "    </tr>\n",
       "    <tr>\n",
       "      <th>996</th>\n",
       "      <td>41</td>\n",
       "      <td>57</td>\n",
       "      <td>0</td>\n",
       "    </tr>\n",
       "    <tr>\n",
       "      <th>997</th>\n",
       "      <td>40</td>\n",
       "      <td>62</td>\n",
       "      <td>0</td>\n",
       "    </tr>\n",
       "    <tr>\n",
       "      <th>998</th>\n",
       "      <td>57</td>\n",
       "      <td>57</td>\n",
       "      <td>1</td>\n",
       "    </tr>\n",
       "    <tr>\n",
       "      <th>999</th>\n",
       "      <td>72</td>\n",
       "      <td>60</td>\n",
       "      <td>1</td>\n",
       "    </tr>\n",
       "  </tbody>\n",
       "</table>\n",
       "<p>1000 rows × 3 columns</p>\n",
       "</div>"
      ],
      "text/plain": [
       "     Credentials  Test Scores  Performance\n",
       "0             53           57            0\n",
       "1             43           68            1\n",
       "2             57           63            1\n",
       "3             43           62            0\n",
       "4             60           60            1\n",
       "..           ...          ...          ...\n",
       "995           53           69            1\n",
       "996           41           57            0\n",
       "997           40           62            0\n",
       "998           57           57            1\n",
       "999           72           60            1\n",
       "\n",
       "[1000 rows x 3 columns]"
      ]
     },
     "execution_count": 36,
     "metadata": {},
     "output_type": "execute_result"
    }
   ],
   "source": [
    "# Drop the 'age' column\n",
    "df = df.drop('Age', axis=1)\n",
    "df"
   ]
  },
  {
   "cell_type": "code",
   "execution_count": 49,
   "id": "d3947c6e",
   "metadata": {},
   "outputs": [
    {
     "name": "stdout",
     "output_type": "stream",
     "text": [
      "Credentials    0\n",
      "Test Scores    0\n",
      "Performance    0\n",
      "dtype: int64\n"
     ]
    }
   ],
   "source": [
    "# Check for missing values\n",
    "missing_values = df.isnull().sum()\n",
    "\n",
    "# Print the missing values\n",
    "print(missing_values)"
   ]
  },
  {
   "cell_type": "markdown",
   "id": "f356ebd8",
   "metadata": {},
   "source": [
    "# SPLIT THE DATA INTO TRAINING,TESTING VALIDATION"
   ]
  },
  {
   "cell_type": "code",
   "execution_count": 86,
   "id": "46baf56b",
   "metadata": {},
   "outputs": [],
   "source": [
    "# Split the data into features (X) and target variable (y)\n",
    "X = df[['Credentials', 'Test Scores']]  # Features\n",
    "y = df['Performance']  # Target\n",
    "\n",
    "# Split the data into training and testing sets\n",
    "X_train, X_test, y_train, y_test = train_test_split(X, y, test_size=0.2, random_state=42)\n",
    "\n"
   ]
  },
  {
   "cell_type": "code",
   "execution_count": 87,
   "id": "53f0d53e",
   "metadata": {},
   "outputs": [
    {
     "data": {
      "text/plain": [
       "((800, 2), (200, 2))"
      ]
     },
     "execution_count": 87,
     "metadata": {},
     "output_type": "execute_result"
    }
   ],
   "source": [
    "# check the shape of X_train and X_test\n",
    "\n",
    "X_train.shape, X_test.shape"
   ]
  },
  {
   "cell_type": "code",
   "execution_count": null,
   "id": "ad2355e8",
   "metadata": {},
   "outputs": [],
   "source": []
  },
  {
   "cell_type": "markdown",
   "id": "b9954834",
   "metadata": {},
   "source": [
    "# FEATURE ENGINEERING"
   ]
  },
  {
   "cell_type": "code",
   "execution_count": 90,
   "id": "cf7cf703",
   "metadata": {},
   "outputs": [
    {
     "data": {
      "text/plain": [
       "Credentials    int64\n",
       "Test Scores    int64\n",
       "dtype: object"
      ]
     },
     "execution_count": 90,
     "metadata": {},
     "output_type": "execute_result"
    }
   ],
   "source": [
    "X_train.dtypes"
   ]
  },
  {
   "cell_type": "code",
   "execution_count": 91,
   "id": "f5f4e6b4",
   "metadata": {},
   "outputs": [
    {
     "data": {
      "text/plain": [
       "Credentials    0\n",
       "Test Scores    0\n",
       "dtype: int64"
      ]
     },
     "execution_count": 91,
     "metadata": {},
     "output_type": "execute_result"
    }
   ],
   "source": [
    "# check missing values in numerical variables in X_train\n",
    "\n",
    "X_train[numerical].isnull().sum()"
   ]
  },
  {
   "cell_type": "code",
   "execution_count": 92,
   "id": "4d0448cf",
   "metadata": {},
   "outputs": [
    {
     "data": {
      "text/plain": [
       "Credentials    0\n",
       "Test Scores    0\n",
       "dtype: int64"
      ]
     },
     "execution_count": 92,
     "metadata": {},
     "output_type": "execute_result"
    }
   ],
   "source": [
    "# check missing values in numerical variables in X_test\n",
    "\n",
    "X_test[numerical].isnull().sum()"
   ]
  },
  {
   "cell_type": "code",
   "execution_count": 93,
   "id": "f910d982",
   "metadata": {},
   "outputs": [
    {
     "name": "stdout",
     "output_type": "stream",
     "text": [
      "Columns with outliers: Index(['Test Scores', 'Credentials', 'Credentials', 'Test Scores',\n",
      "       'Credentials', 'Test Scores', 'Test Scores'],\n",
      "      dtype='object')\n"
     ]
    }
   ],
   "source": [
    "# Calculate the IQR for each numerical column\n"
   ]
  },
  {
   "cell_type": "code",
   "execution_count": null,
   "id": "5887353e",
   "metadata": {},
   "outputs": [],
   "source": []
  },
  {
   "cell_type": "markdown",
   "id": "377dcc75",
   "metadata": {},
   "source": [
    "# FEATURE SCALING"
   ]
  },
  {
   "cell_type": "code",
   "execution_count": 94,
   "id": "07ad08a2",
   "metadata": {},
   "outputs": [
    {
     "data": {
      "text/html": [
       "<div>\n",
       "<style scoped>\n",
       "    .dataframe tbody tr th:only-of-type {\n",
       "        vertical-align: middle;\n",
       "    }\n",
       "\n",
       "    .dataframe tbody tr th {\n",
       "        vertical-align: top;\n",
       "    }\n",
       "\n",
       "    .dataframe thead th {\n",
       "        text-align: right;\n",
       "    }\n",
       "</style>\n",
       "<table border=\"1\" class=\"dataframe\">\n",
       "  <thead>\n",
       "    <tr style=\"text-align: right;\">\n",
       "      <th></th>\n",
       "      <th>Credentials</th>\n",
       "      <th>Test Scores</th>\n",
       "    </tr>\n",
       "  </thead>\n",
       "  <tbody>\n",
       "    <tr>\n",
       "      <th>count</th>\n",
       "      <td>800.000000</td>\n",
       "      <td>800.000000</td>\n",
       "    </tr>\n",
       "    <tr>\n",
       "      <th>mean</th>\n",
       "      <td>50.201250</td>\n",
       "      <td>60.220000</td>\n",
       "    </tr>\n",
       "    <tr>\n",
       "      <th>std</th>\n",
       "      <td>5.928928</td>\n",
       "      <td>5.926889</td>\n",
       "    </tr>\n",
       "    <tr>\n",
       "      <th>min</th>\n",
       "      <td>34.000000</td>\n",
       "      <td>35.000000</td>\n",
       "    </tr>\n",
       "    <tr>\n",
       "      <th>25%</th>\n",
       "      <td>46.000000</td>\n",
       "      <td>56.000000</td>\n",
       "    </tr>\n",
       "    <tr>\n",
       "      <th>50%</th>\n",
       "      <td>50.000000</td>\n",
       "      <td>60.000000</td>\n",
       "    </tr>\n",
       "    <tr>\n",
       "      <th>75%</th>\n",
       "      <td>54.000000</td>\n",
       "      <td>64.000000</td>\n",
       "    </tr>\n",
       "    <tr>\n",
       "      <th>max</th>\n",
       "      <td>72.000000</td>\n",
       "      <td>82.000000</td>\n",
       "    </tr>\n",
       "  </tbody>\n",
       "</table>\n",
       "</div>"
      ],
      "text/plain": [
       "       Credentials  Test Scores\n",
       "count   800.000000   800.000000\n",
       "mean     50.201250    60.220000\n",
       "std       5.928928     5.926889\n",
       "min      34.000000    35.000000\n",
       "25%      46.000000    56.000000\n",
       "50%      50.000000    60.000000\n",
       "75%      54.000000    64.000000\n",
       "max      72.000000    82.000000"
      ]
     },
     "execution_count": 94,
     "metadata": {},
     "output_type": "execute_result"
    }
   ],
   "source": [
    "X_train.describe()"
   ]
  },
  {
   "cell_type": "code",
   "execution_count": 95,
   "id": "082636d1",
   "metadata": {},
   "outputs": [],
   "source": [
    "cols = X_train.columns"
   ]
  },
  {
   "cell_type": "code",
   "execution_count": 96,
   "id": "8ebdd38f",
   "metadata": {},
   "outputs": [],
   "source": [
    "from sklearn.preprocessing import MinMaxScaler\n",
    "\n",
    "scaler = MinMaxScaler()\n",
    "\n",
    "X_train = scaler.fit_transform(X_train)\n",
    "\n",
    "X_test = scaler.transform(X_test)"
   ]
  },
  {
   "cell_type": "code",
   "execution_count": 97,
   "id": "66cc876b",
   "metadata": {},
   "outputs": [],
   "source": [
    "X_train = pd.DataFrame(X_train, columns=[cols])"
   ]
  },
  {
   "cell_type": "code",
   "execution_count": 98,
   "id": "bd9e653a",
   "metadata": {},
   "outputs": [],
   "source": [
    "X_test = pd.DataFrame(X_test, columns=[cols])"
   ]
  },
  {
   "cell_type": "code",
   "execution_count": 99,
   "id": "e8575f5f",
   "metadata": {},
   "outputs": [
    {
     "data": {
      "text/html": [
       "<div>\n",
       "<style scoped>\n",
       "    .dataframe tbody tr th:only-of-type {\n",
       "        vertical-align: middle;\n",
       "    }\n",
       "\n",
       "    .dataframe tbody tr th {\n",
       "        vertical-align: top;\n",
       "    }\n",
       "\n",
       "    .dataframe thead tr th {\n",
       "        text-align: left;\n",
       "    }\n",
       "</style>\n",
       "<table border=\"1\" class=\"dataframe\">\n",
       "  <thead>\n",
       "    <tr>\n",
       "      <th></th>\n",
       "      <th>Credentials</th>\n",
       "      <th>Test Scores</th>\n",
       "    </tr>\n",
       "  </thead>\n",
       "  <tbody>\n",
       "    <tr>\n",
       "      <th>count</th>\n",
       "      <td>800.000000</td>\n",
       "      <td>800.000000</td>\n",
       "    </tr>\n",
       "    <tr>\n",
       "      <th>mean</th>\n",
       "      <td>0.426349</td>\n",
       "      <td>0.536596</td>\n",
       "    </tr>\n",
       "    <tr>\n",
       "      <th>std</th>\n",
       "      <td>0.156024</td>\n",
       "      <td>0.126104</td>\n",
       "    </tr>\n",
       "    <tr>\n",
       "      <th>min</th>\n",
       "      <td>0.000000</td>\n",
       "      <td>0.000000</td>\n",
       "    </tr>\n",
       "    <tr>\n",
       "      <th>25%</th>\n",
       "      <td>0.315789</td>\n",
       "      <td>0.446809</td>\n",
       "    </tr>\n",
       "    <tr>\n",
       "      <th>50%</th>\n",
       "      <td>0.421053</td>\n",
       "      <td>0.531915</td>\n",
       "    </tr>\n",
       "    <tr>\n",
       "      <th>75%</th>\n",
       "      <td>0.526316</td>\n",
       "      <td>0.617021</td>\n",
       "    </tr>\n",
       "    <tr>\n",
       "      <th>max</th>\n",
       "      <td>1.000000</td>\n",
       "      <td>1.000000</td>\n",
       "    </tr>\n",
       "  </tbody>\n",
       "</table>\n",
       "</div>"
      ],
      "text/plain": [
       "      Credentials Test Scores\n",
       "count  800.000000  800.000000\n",
       "mean     0.426349    0.536596\n",
       "std      0.156024    0.126104\n",
       "min      0.000000    0.000000\n",
       "25%      0.315789    0.446809\n",
       "50%      0.421053    0.531915\n",
       "75%      0.526316    0.617021\n",
       "max      1.000000    1.000000"
      ]
     },
     "execution_count": 99,
     "metadata": {},
     "output_type": "execute_result"
    }
   ],
   "source": [
    "X_train.describe()"
   ]
  },
  {
   "cell_type": "markdown",
   "id": "345ee2e2",
   "metadata": {},
   "source": [
    "# MODEL TRAINING"
   ]
  },
  {
   "cell_type": "code",
   "execution_count": 100,
   "id": "1b98571b",
   "metadata": {},
   "outputs": [
    {
     "data": {
      "text/plain": [
       "LogisticRegression(random_state=0, solver='liblinear')"
      ]
     },
     "execution_count": 100,
     "metadata": {},
     "output_type": "execute_result"
    }
   ],
   "source": [
    "# train a logistic regression model on the training set\n",
    "from sklearn.linear_model import LogisticRegression\n",
    "\n",
    "\n",
    "# instantiate the model\n",
    "logreg = LogisticRegression(solver='liblinear', random_state=0)\n",
    "\n",
    "\n",
    "# fit the model\n",
    "logreg.fit(X_train, y_train)"
   ]
  },
  {
   "cell_type": "markdown",
   "id": "be66dc54",
   "metadata": {},
   "source": [
    "# PREDICT RESULT"
   ]
  },
  {
   "cell_type": "code",
   "execution_count": 101,
   "id": "3bebd976",
   "metadata": {},
   "outputs": [
    {
     "data": {
      "text/plain": [
       "array([0, 0, 0, 0, 0, 0, 0, 1, 1, 0, 0, 1, 1, 1, 0, 1, 1, 1, 0, 1, 1, 0,\n",
       "       1, 0, 0, 0, 0, 0, 0, 0, 1, 0, 0, 0, 0, 1, 1, 1, 0, 1, 1, 1, 1, 1,\n",
       "       0, 1, 1, 0, 1, 1, 0, 1, 0, 0, 1, 1, 1, 0, 0, 0, 0, 0, 1, 1, 1, 1,\n",
       "       1, 1, 1, 0, 0, 1, 0, 1, 1, 0, 1, 1, 1, 0, 1, 1, 0, 0, 0, 1, 1, 0,\n",
       "       0, 0, 0, 0, 0, 1, 0, 0, 0, 0, 1, 1, 1, 1, 1, 1, 0, 0, 1, 1, 1, 0,\n",
       "       1, 1, 1, 0, 0, 0, 1, 0, 0, 0, 1, 1, 1, 1, 1, 0, 1, 1, 0, 0, 0, 1,\n",
       "       0, 1, 1, 1, 1, 0, 0, 0, 0, 0, 0, 0, 1, 1, 1, 0, 0, 1, 0, 0, 1, 1,\n",
       "       0, 1, 1, 1, 1, 1, 1, 0, 0, 1, 1, 1, 1, 1, 1, 1, 1, 0, 0, 1, 1, 1,\n",
       "       0, 1, 0, 0, 0, 0, 0, 0, 0, 0, 0, 1, 0, 0, 0, 0, 1, 1, 0, 0, 1, 0,\n",
       "       0, 0], dtype=int64)"
      ]
     },
     "execution_count": 101,
     "metadata": {},
     "output_type": "execute_result"
    }
   ],
   "source": [
    "y_pred_test = logreg.predict(X_test)\n",
    "\n",
    "y_pred_test"
   ]
  },
  {
   "cell_type": "code",
   "execution_count": 102,
   "id": "2d3a7081",
   "metadata": {},
   "outputs": [
    {
     "data": {
      "text/plain": [
       "array([0.65245368, 0.91500209, 0.84591423, 0.91223037, 0.58844438,\n",
       "       0.80608212, 0.66560646, 0.473393  , 0.29116561, 0.72442886,\n",
       "       0.7379559 , 0.36380481, 0.21201532, 0.26105042, 0.69457696,\n",
       "       0.26331515, 0.16276354, 0.38958001, 0.50959983, 0.21103901,\n",
       "       0.28995894, 0.54425462, 0.13969044, 0.94103971, 0.72442886,\n",
       "       0.51398769, 0.61197951, 0.9581227 , 0.77739493, 0.82095825,\n",
       "       0.15959786, 0.75673938, 0.84818936, 0.53844094, 0.77941437,\n",
       "       0.21299493, 0.36109943, 0.31686597, 0.57419815, 0.0702077 ,\n",
       "       0.11942161, 0.0599822 , 0.08158461, 0.47047534, 0.77941437,\n",
       "       0.32580163, 0.46319044, 0.69457696, 0.3206795 , 0.31813445,\n",
       "       0.75240314, 0.23512502, 0.78241883, 0.93570826, 0.44179016,\n",
       "       0.18261513, 0.23723705, 0.86995097, 0.59410303, 0.50521048,\n",
       "       0.50959983, 0.71259072, 0.35437472, 0.2268077 , 0.39656244,\n",
       "       0.28995894, 0.18349053, 0.39097298, 0.14039542, 0.54280226,\n",
       "       0.62166401, 0.09715473, 0.75021567, 0.20716673, 0.20716673,\n",
       "       0.80332228, 0.38818884, 0.32708875, 0.4675597 , 0.75131102,\n",
       "       0.35571516, 0.40782144, 0.92480685, 0.65112511, 0.95270319,\n",
       "       0.42597519, 0.36651883, 0.90043777, 0.69208767, 0.93428519,\n",
       "       0.69208767, 0.59269064, 0.71972998, 0.35975003, 0.55150462,\n",
       "       0.60640498, 0.9231623 , 0.81151333, 0.2521183 , 0.18174298,\n",
       "       0.14614284, 0.40077242, 0.26673584, 0.31940563, 0.80053288,\n",
       "       0.58560617, 0.39376424, 0.29116561, 0.08071166, 0.75457772,\n",
       "       0.37060575, 0.15571113, 0.13898843, 0.69581736, 0.82940144,\n",
       "       0.61890652, 0.12190597, 0.94327258, 0.58560617, 0.78341373,\n",
       "       0.18174298, 0.39376424, 0.04034573, 0.2521183 , 0.47485253,\n",
       "       0.51106265, 0.38818884, 0.39936744, 0.71498251, 0.95765042,\n",
       "       0.85043683, 0.10834789, 0.65245368, 0.13898843, 0.46173525,\n",
       "       0.28397022, 0.36380481, 0.62303983, 0.82437412, 0.62303983,\n",
       "       0.72090928, 0.6298888 , 0.95136673, 0.81240709, 0.47193393,\n",
       "       0.09411721, 0.14110337, 0.61752488, 0.62441366, 0.02531504,\n",
       "       0.75131102, 0.52129568, 0.42454444, 0.16356282, 0.90148244,\n",
       "       0.36787904, 0.08114706, 0.32323527, 0.16196741, 0.18349053,\n",
       "       0.44034705, 0.86995097, 0.5398954 , 0.46901726, 0.29480331,\n",
       "       0.44612531, 0.18613624, 0.16117442, 0.47193393, 0.45592122,\n",
       "       0.26445224, 0.75781536, 0.72792081, 0.43314706, 0.07136277,\n",
       "       0.4345849 , 0.8541216 , 0.40782144, 0.53844094, 0.58276226,\n",
       "       0.71972998, 0.86995097, 0.75131102, 0.68958717, 0.88666965,\n",
       "       0.54860707, 0.64979418, 0.36245103, 0.69705492, 0.51398769,\n",
       "       0.92148484, 0.58276226, 0.25767702, 0.05932547, 0.92521291,\n",
       "       0.89885229, 0.38679949, 0.86660358, 0.92232772, 0.65906069])"
      ]
     },
     "execution_count": 102,
     "metadata": {},
     "output_type": "execute_result"
    }
   ],
   "source": [
    "# probability of getting output as 0 - no rain\n",
    "\n",
    "logreg.predict_proba(X_test)[:,0]"
   ]
  },
  {
   "cell_type": "code",
   "execution_count": 103,
   "id": "56ede7db",
   "metadata": {},
   "outputs": [
    {
     "data": {
      "text/plain": [
       "array([0.34754632, 0.08499791, 0.15408577, 0.08776963, 0.41155562,\n",
       "       0.19391788, 0.33439354, 0.526607  , 0.70883439, 0.27557114,\n",
       "       0.2620441 , 0.63619519, 0.78798468, 0.73894958, 0.30542304,\n",
       "       0.73668485, 0.83723646, 0.61041999, 0.49040017, 0.78896099,\n",
       "       0.71004106, 0.45574538, 0.86030956, 0.05896029, 0.27557114,\n",
       "       0.48601231, 0.38802049, 0.0418773 , 0.22260507, 0.17904175,\n",
       "       0.84040214, 0.24326062, 0.15181064, 0.46155906, 0.22058563,\n",
       "       0.78700507, 0.63890057, 0.68313403, 0.42580185, 0.9297923 ,\n",
       "       0.88057839, 0.9400178 , 0.91841539, 0.52952466, 0.22058563,\n",
       "       0.67419837, 0.53680956, 0.30542304, 0.6793205 , 0.68186555,\n",
       "       0.24759686, 0.76487498, 0.21758117, 0.06429174, 0.55820984,\n",
       "       0.81738487, 0.76276295, 0.13004903, 0.40589697, 0.49478952,\n",
       "       0.49040017, 0.28740928, 0.64562528, 0.7731923 , 0.60343756,\n",
       "       0.71004106, 0.81650947, 0.60902702, 0.85960458, 0.45719774,\n",
       "       0.37833599, 0.90284527, 0.24978433, 0.79283327, 0.79283327,\n",
       "       0.19667772, 0.61181116, 0.67291125, 0.5324403 , 0.24868898,\n",
       "       0.64428484, 0.59217856, 0.07519315, 0.34887489, 0.04729681,\n",
       "       0.57402481, 0.63348117, 0.09956223, 0.30791233, 0.06571481,\n",
       "       0.30791233, 0.40730936, 0.28027002, 0.64024997, 0.44849538,\n",
       "       0.39359502, 0.0768377 , 0.18848667, 0.7478817 , 0.81825702,\n",
       "       0.85385716, 0.59922758, 0.73326416, 0.68059437, 0.19946712,\n",
       "       0.41439383, 0.60623576, 0.70883439, 0.91928834, 0.24542228,\n",
       "       0.62939425, 0.84428887, 0.86101157, 0.30418264, 0.17059856,\n",
       "       0.38109348, 0.87809403, 0.05672742, 0.41439383, 0.21658627,\n",
       "       0.81825702, 0.60623576, 0.95965427, 0.7478817 , 0.52514747,\n",
       "       0.48893735, 0.61181116, 0.60063256, 0.28501749, 0.04234958,\n",
       "       0.14956317, 0.89165211, 0.34754632, 0.86101157, 0.53826475,\n",
       "       0.71602978, 0.63619519, 0.37696017, 0.17562588, 0.37696017,\n",
       "       0.27909072, 0.3701112 , 0.04863327, 0.18759291, 0.52806607,\n",
       "       0.90588279, 0.85889663, 0.38247512, 0.37558634, 0.97468496,\n",
       "       0.24868898, 0.47870432, 0.57545556, 0.83643718, 0.09851756,\n",
       "       0.63212096, 0.91885294, 0.67676473, 0.83803259, 0.81650947,\n",
       "       0.55965295, 0.13004903, 0.4601046 , 0.53098274, 0.70519669,\n",
       "       0.55387469, 0.81386376, 0.83882558, 0.52806607, 0.54407878,\n",
       "       0.73554776, 0.24218464, 0.27207919, 0.56685294, 0.92863723,\n",
       "       0.5654151 , 0.1458784 , 0.59217856, 0.46155906, 0.41723774,\n",
       "       0.28027002, 0.13004903, 0.24868898, 0.31041283, 0.11333035,\n",
       "       0.45139293, 0.35020582, 0.63754897, 0.30294508, 0.48601231,\n",
       "       0.07851516, 0.41723774, 0.74232298, 0.94067453, 0.07478709,\n",
       "       0.10114771, 0.61320051, 0.13339642, 0.07767228, 0.34093931])"
      ]
     },
     "execution_count": 103,
     "metadata": {},
     "output_type": "execute_result"
    }
   ],
   "source": [
    "# probability of getting output as 1 - rain\n",
    "\n",
    "logreg.predict_proba(X_test)[:,1]"
   ]
  },
  {
   "cell_type": "markdown",
   "id": "e5a188d8",
   "metadata": {},
   "source": [
    "# Check accuracy score"
   ]
  },
  {
   "cell_type": "code",
   "execution_count": 105,
   "id": "f0d3c27b",
   "metadata": {},
   "outputs": [
    {
     "name": "stdout",
     "output_type": "stream",
     "text": [
      "Model accuracy score: 0.8900\n"
     ]
    }
   ],
   "source": [
    "from sklearn.metrics import accuracy_score\n",
    "\n",
    "print('Model accuracy score: {0:0.4f}'. format(accuracy_score(y_test, y_pred_test)))"
   ]
  },
  {
   "cell_type": "markdown",
   "id": "01758bd3",
   "metadata": {},
   "source": [
    "# COMPARE TRTAIN VS TEST ACCURACY"
   ]
  },
  {
   "cell_type": "code",
   "execution_count": 106,
   "id": "bb5bbbce",
   "metadata": {},
   "outputs": [
    {
     "data": {
      "text/plain": [
       "array([0, 0, 0, 1, 1, 0, 1, 1, 1, 1, 0, 1, 0, 1, 0, 0, 1, 1, 1, 1, 0, 0,\n",
       "       1, 0, 0, 1, 0, 1, 0, 1, 1, 0, 0, 0, 1, 1, 1, 0, 1, 1, 0, 0, 0, 0,\n",
       "       1, 0, 0, 1, 1, 1, 1, 1, 0, 0, 0, 0, 0, 0, 0, 1, 0, 1, 1, 1, 1, 1,\n",
       "       0, 1, 0, 0, 0, 0, 0, 1, 1, 0, 0, 0, 0, 0, 1, 0, 0, 0, 0, 1, 1, 1,\n",
       "       0, 1, 0, 0, 0, 1, 1, 0, 0, 0, 0, 1, 1, 0, 0, 1, 0, 1, 0, 0, 1, 0,\n",
       "       1, 1, 0, 0, 1, 1, 0, 1, 1, 0, 0, 0, 0, 0, 1, 0, 1, 0, 1, 0, 0, 1,\n",
       "       1, 1, 0, 1, 1, 0, 0, 0, 0, 0, 0, 0, 0, 0, 0, 0, 1, 0, 1, 0, 1, 0,\n",
       "       1, 0, 0, 1, 1, 0, 0, 1, 0, 0, 0, 0, 1, 1, 0, 1, 1, 0, 1, 0, 0, 1,\n",
       "       0, 0, 0, 0, 0, 0, 0, 1, 0, 1, 0, 0, 0, 0, 0, 0, 1, 1, 1, 1, 1, 0,\n",
       "       1, 0, 0, 1, 0, 1, 1, 1, 0, 1, 1, 0, 0, 0, 0, 0, 1, 0, 1, 0, 0, 1,\n",
       "       1, 1, 1, 1, 0, 1, 1, 1, 1, 1, 1, 1, 1, 0, 0, 1, 0, 0, 0, 1, 1, 1,\n",
       "       1, 1, 1, 0, 1, 1, 0, 1, 1, 1, 1, 0, 0, 0, 1, 1, 1, 1, 1, 0, 0, 1,\n",
       "       1, 0, 1, 0, 0, 0, 0, 1, 0, 0, 0, 0, 1, 1, 1, 0, 0, 1, 1, 0, 0, 1,\n",
       "       0, 0, 1, 0, 0, 1, 0, 1, 1, 1, 0, 1, 1, 0, 1, 1, 1, 0, 0, 1, 1, 1,\n",
       "       0, 1, 0, 0, 1, 1, 0, 1, 1, 0, 1, 1, 0, 0, 1, 0, 1, 1, 0, 1, 0, 0,\n",
       "       1, 1, 1, 0, 0, 0, 1, 1, 0, 1, 1, 1, 0, 1, 0, 0, 0, 0, 1, 1, 1, 0,\n",
       "       1, 1, 1, 0, 1, 1, 0, 1, 0, 1, 0, 0, 0, 1, 0, 1, 1, 1, 1, 1, 0, 0,\n",
       "       1, 0, 0, 0, 0, 1, 1, 0, 1, 0, 0, 1, 0, 0, 1, 0, 0, 0, 0, 1, 0, 0,\n",
       "       1, 0, 0, 0, 0, 0, 0, 1, 1, 1, 0, 1, 0, 1, 1, 1, 0, 0, 1, 0, 1, 0,\n",
       "       1, 0, 0, 0, 1, 1, 0, 0, 0, 0, 1, 1, 0, 1, 0, 0, 1, 1, 0, 1, 1, 1,\n",
       "       1, 1, 0, 1, 0, 1, 0, 0, 1, 0, 0, 1, 1, 1, 0, 1, 0, 1, 1, 0, 0, 1,\n",
       "       1, 1, 1, 0, 1, 1, 1, 0, 1, 1, 0, 0, 1, 0, 1, 1, 0, 0, 1, 1, 0, 0,\n",
       "       1, 0, 1, 0, 0, 0, 1, 1, 1, 0, 1, 0, 1, 1, 1, 0, 1, 1, 0, 0, 0, 1,\n",
       "       1, 1, 1, 1, 0, 1, 1, 0, 1, 1, 1, 1, 1, 1, 1, 0, 1, 0, 1, 1, 1, 1,\n",
       "       1, 1, 1, 0, 1, 1, 0, 1, 0, 1, 1, 1, 1, 1, 0, 1, 0, 0, 1, 0, 0, 1,\n",
       "       1, 1, 1, 0, 1, 0, 1, 1, 1, 1, 0, 0, 0, 0, 0, 0, 1, 1, 1, 0, 1, 1,\n",
       "       0, 0, 1, 0, 0, 0, 0, 0, 0, 0, 0, 1, 1, 1, 1, 0, 1, 0, 1, 1, 0, 1,\n",
       "       0, 0, 1, 0, 1, 0, 0, 0, 1, 1, 1, 0, 0, 1, 1, 0, 1, 1, 0, 0, 1, 0,\n",
       "       1, 1, 0, 0, 1, 1, 1, 0, 1, 1, 1, 1, 1, 0, 0, 0, 0, 0, 1, 0, 0, 1,\n",
       "       0, 0, 1, 1, 0, 0, 0, 1, 0, 0, 0, 0, 0, 1, 1, 1, 1, 0, 0, 1, 0, 0,\n",
       "       1, 1, 1, 1, 0, 0, 1, 1, 0, 1, 0, 1, 1, 1, 1, 1, 0, 1, 1, 0, 0, 0,\n",
       "       0, 0, 1, 1, 1, 0, 1, 1, 0, 1, 0, 1, 1, 1, 1, 1, 0, 0, 1, 1, 1, 0,\n",
       "       1, 1, 0, 1, 0, 1, 0, 1, 0, 0, 1, 1, 1, 0, 1, 1, 0, 1, 1, 1, 1, 0,\n",
       "       1, 0, 0, 0, 1, 1, 0, 0, 0, 1, 1, 0, 0, 0, 0, 0, 1, 0, 1, 1, 1, 1,\n",
       "       0, 1, 1, 0, 0, 0, 0, 1, 1, 1, 0, 0, 0, 0, 1, 1, 1, 0, 0, 0, 0, 0,\n",
       "       1, 0, 1, 0, 0, 0, 1, 0, 0, 1, 0, 1, 0, 1, 1, 0, 0, 0, 0, 0, 0, 1,\n",
       "       0, 0, 0, 0, 1, 0, 0, 1], dtype=int64)"
      ]
     },
     "execution_count": 106,
     "metadata": {},
     "output_type": "execute_result"
    }
   ],
   "source": [
    "y_pred_train = logreg.predict(X_train)\n",
    "\n",
    "y_pred_train"
   ]
  },
  {
   "cell_type": "code",
   "execution_count": 107,
   "id": "eece5019",
   "metadata": {},
   "outputs": [
    {
     "name": "stdout",
     "output_type": "stream",
     "text": [
      "Training-set accuracy score: 0.8662\n"
     ]
    }
   ],
   "source": [
    "print('Training-set accuracy score: {0:0.4f}'. format(accuracy_score(y_train, y_pred_train)))"
   ]
  },
  {
   "cell_type": "markdown",
   "id": "aea88788",
   "metadata": {},
   "source": [
    "# Check for overfitting and underfitting"
   ]
  },
  {
   "cell_type": "code",
   "execution_count": 108,
   "id": "7096f597",
   "metadata": {},
   "outputs": [
    {
     "name": "stdout",
     "output_type": "stream",
     "text": [
      "Training set score: 0.8662\n",
      "Test set score: 0.8900\n"
     ]
    }
   ],
   "source": [
    "# print the scores on training and test set\n",
    "\n",
    "print('Training set score: {:.4f}'.format(logreg.score(X_train, y_train)))\n",
    "\n",
    "print('Test set score: {:.4f}'.format(logreg.score(X_test, y_test)))"
   ]
  },
  {
   "cell_type": "markdown",
   "id": "dd5aec9b",
   "metadata": {},
   "source": [
    "# Compare model accuracy with null accuracy"
   ]
  },
  {
   "cell_type": "code",
   "execution_count": 109,
   "id": "1e97c55f",
   "metadata": {},
   "outputs": [
    {
     "data": {
      "text/plain": [
       "1    101\n",
       "0     99\n",
       "Name: Performance, dtype: int64"
      ]
     },
     "execution_count": 109,
     "metadata": {},
     "output_type": "execute_result"
    }
   ],
   "source": [
    "# check class distribution in test set\n",
    "\n",
    "y_test.value_counts()"
   ]
  },
  {
   "cell_type": "code",
   "execution_count": 110,
   "id": "f97053e5",
   "metadata": {},
   "outputs": [
    {
     "name": "stdout",
     "output_type": "stream",
     "text": [
      "Null accuracy score: 0.7759\n"
     ]
    }
   ],
   "source": [
    "# check null accuracy score\n",
    "\n",
    "null_accuracy = (22067/(22067+6372))\n",
    "\n",
    "print('Null accuracy score: {0:0.4f}'. format(null_accuracy))"
   ]
  },
  {
   "cell_type": "markdown",
   "id": "c0221734",
   "metadata": {},
   "source": [
    "# Confusion matrix "
   ]
  },
  {
   "cell_type": "code",
   "execution_count": 111,
   "id": "dfafb1db",
   "metadata": {},
   "outputs": [
    {
     "name": "stdout",
     "output_type": "stream",
     "text": [
      "Confusion matrix\n",
      "\n",
      " [[89 10]\n",
      " [12 89]]\n",
      "\n",
      "True Positives(TP) =  89\n",
      "\n",
      "True Negatives(TN) =  89\n",
      "\n",
      "False Positives(FP) =  10\n",
      "\n",
      "False Negatives(FN) =  12\n"
     ]
    }
   ],
   "source": [
    "# Print the Confusion Matrix and slice it into four pieces\n",
    "\n",
    "from sklearn.metrics import confusion_matrix\n",
    "\n",
    "cm = confusion_matrix(y_test, y_pred_test)\n",
    "\n",
    "print('Confusion matrix\\n\\n', cm)\n",
    "\n",
    "print('\\nTrue Positives(TP) = ', cm[0,0])\n",
    "\n",
    "print('\\nTrue Negatives(TN) = ', cm[1,1])\n",
    "\n",
    "print('\\nFalse Positives(FP) = ', cm[0,1])\n",
    "\n",
    "print('\\nFalse Negatives(FN) = ', cm[1,0])"
   ]
  },
  {
   "cell_type": "code",
   "execution_count": 112,
   "id": "8f19765f",
   "metadata": {},
   "outputs": [
    {
     "data": {
      "text/plain": [
       "<AxesSubplot:>"
      ]
     },
     "execution_count": 112,
     "metadata": {},
     "output_type": "execute_result"
    },
    {
     "data": {
      "image/png": "[encoded data removed]",
      "text/plain": [
       "<Figure size 432x288 with 2 Axes>"
      ]
     },
     "metadata": {
      "needs_background": "light"
     },
     "output_type": "display_data"
    }
   ],
   "source": [
    "# visualize confusion matrix with seaborn heatmap\n",
    "\n",
    "cm_matrix = pd.DataFrame(data=cm, columns=['Actual Positive:1', 'Actual Negative:0'], \n",
    "                                 index=['Predict Positive:1', 'Predict Negative:0'])\n",
    "\n",
    "sns.heatmap(cm_matrix, annot=True, fmt='d', cmap='YlGnBu')"
   ]
  },
  {
   "cell_type": "markdown",
   "id": "ace1a7eb",
   "metadata": {},
   "source": [
    "# Classification Report"
   ]
  },
  {
   "cell_type": "code",
   "execution_count": 113,
   "id": "3508e949",
   "metadata": {},
   "outputs": [
    {
     "name": "stdout",
     "output_type": "stream",
     "text": [
      "              precision    recall  f1-score   support\n",
      "\n",
      "           0       0.88      0.90      0.89        99\n",
      "           1       0.90      0.88      0.89       101\n",
      "\n",
      "    accuracy                           0.89       200\n",
      "   macro avg       0.89      0.89      0.89       200\n",
      "weighted avg       0.89      0.89      0.89       200\n",
      "\n"
     ]
    }
   ],
   "source": [
    "from sklearn.metrics import classification_report\n",
    "\n",
    "print(classification_report(y_test, y_pred_test))"
   ]
  },
  {
   "cell_type": "markdown",
   "id": "0265730f",
   "metadata": {},
   "source": [
    "# Classification accuracy"
   ]
  },
  {
   "cell_type": "code",
   "execution_count": 114,
   "id": "29c4bcd5",
   "metadata": {},
   "outputs": [],
   "source": [
    "TP = cm[0,0]\n",
    "TN = cm[1,1]\n",
    "FP = cm[0,1]\n",
    "FN = cm[1,0]"
   ]
  },
  {
   "cell_type": "code",
   "execution_count": 115,
   "id": "f73935e0",
   "metadata": {},
   "outputs": [
    {
     "name": "stdout",
     "output_type": "stream",
     "text": [
      "Classification accuracy : 0.8900\n"
     ]
    }
   ],
   "source": [
    "# print classification accuracy\n",
    "\n",
    "classification_accuracy = (TP + TN) / float(TP + TN + FP + FN)\n",
    "\n",
    "print('Classification accuracy : {0:0.4f}'.format(classification_accuracy))"
   ]
  },
  {
   "cell_type": "markdown",
   "id": "19b5af11",
   "metadata": {},
   "source": [
    "# Classification error"
   ]
  },
  {
   "cell_type": "code",
   "execution_count": 116,
   "id": "065f845c",
   "metadata": {},
   "outputs": [
    {
     "name": "stdout",
     "output_type": "stream",
     "text": [
      "Classification error : 0.1100\n"
     ]
    }
   ],
   "source": [
    "# print classification error\n",
    "\n",
    "classification_error = (FP + FN) / float(TP + TN + FP + FN)\n",
    "\n",
    "print('Classification error : {0:0.4f}'.format(classification_error))"
   ]
  },
  {
   "cell_type": "markdown",
   "id": "04ab203a",
   "metadata": {},
   "source": [
    "# ROC - AUC"
   ]
  },
  {
   "cell_type": "code",
   "execution_count": 120,
   "id": "338d7a21",
   "metadata": {},
   "outputs": [
    {
     "name": "stdout",
     "output_type": "stream",
     "text": [
      "ROC AUC : 0.9560\n"
     ]
    }
   ],
   "source": [
    "# compute ROC AUC\n",
    "\n",
    "from sklearn.metrics import roc_auc_score\n",
    "\n",
    "ROC_AUC = roc_auc_score(y_test, y_pred1)\n",
    "\n",
    "print('ROC AUC : {:.4f}'.format(ROC_AUC))"
   ]
  },
  {
   "cell_type": "markdown",
   "id": "f6b87167",
   "metadata": {},
   "source": [
    "# Hyperparameter Optimization using GridSearch CV"
   ]
  },
  {
   "cell_type": "code",
   "execution_count": 121,
   "id": "b05a43d4",
   "metadata": {},
   "outputs": [
    {
     "data": {
      "text/plain": [
       "GridSearchCV(cv=5,\n",
       "             estimator=LogisticRegression(random_state=0, solver='liblinear'),\n",
       "             param_grid=[{'penalty': ['l1', 'l2']}, {'C': [1, 10, 100, 1000]}],\n",
       "             scoring='accuracy')"
      ]
     },
     "execution_count": 121,
     "metadata": {},
     "output_type": "execute_result"
    }
   ],
   "source": [
    "from sklearn.model_selection import GridSearchCV\n",
    "\n",
    "\n",
    "parameters = [{'penalty':['l1','l2']}, \n",
    "              {'C':[1, 10, 100, 1000]}]\n",
    "\n",
    "\n",
    "\n",
    "grid_search = GridSearchCV(estimator = logreg,  \n",
    "                           param_grid = parameters,\n",
    "                           scoring = 'accuracy',\n",
    "                           cv = 5,\n",
    "                           verbose=0)\n",
    "\n",
    "\n",
    "grid_search.fit(X_train, y_train)"
   ]
  },
  {
   "cell_type": "code",
   "execution_count": 122,
   "id": "f56af72c",
   "metadata": {},
   "outputs": [
    {
     "name": "stdout",
     "output_type": "stream",
     "text": [
      "GridSearch CV best score : 0.8738\n",
      "\n",
      "\n",
      "Parameters that give the best results : \n",
      "\n",
      " {'penalty': 'l1'}\n",
      "\n",
      "\n",
      "Estimator that was chosen by the search : \n",
      "\n",
      " LogisticRegression(penalty='l1', random_state=0, solver='liblinear')\n"
     ]
    }
   ],
   "source": [
    "# examine the best model\n",
    "\n",
    "# best score achieved during the GridSearchCV\n",
    "print('GridSearch CV best score : {:.4f}\\n\\n'.format(grid_search.best_score_))\n",
    "\n",
    "# print parameters that give the best results\n",
    "print('Parameters that give the best results :','\\n\\n', (grid_search.best_params_))\n",
    "\n",
    "# print estimator that was chosen by the GridSearch\n",
    "print('\\n\\nEstimator that was chosen by the search :','\\n\\n', (grid_search.best_estimator_))"
   ]
  },
  {
   "cell_type": "code",
   "execution_count": 123,
   "id": "d9ca0852",
   "metadata": {},
   "outputs": [
    {
     "name": "stdout",
     "output_type": "stream",
     "text": [
      "GridSearch CV score on test set: 0.8800\n"
     ]
    }
   ],
   "source": [
    "# calculate GridSearch CV score on test set\n",
    "\n",
    "print('GridSearch CV score on test set: {0:0.4f}'.format(grid_search.score(X_test, y_test)))"
   ]
  },
  {
   "cell_type": "code",
   "execution_count": null,
   "id": "7f7a782a",
   "metadata": {},
   "outputs": [],
   "source": []
  },
  {
   "cell_type": "code",
   "execution_count": null,
   "id": "87223ab1",
   "metadata": {},
   "outputs": [],
   "source": []
  },
  {
   "cell_type": "code",
   "execution_count": null,
   "id": "b72158b9",
   "metadata": {},
   "outputs": [],
   "source": []
  },
  {
   "cell_type": "code",
   "execution_count": null,
   "id": "cfb8ec5c",
   "metadata": {},
   "outputs": [],
   "source": []
  },
  {
   "cell_type": "code",
   "execution_count": null,
   "id": "fcfcb448",
   "metadata": {},
   "outputs": [],
   "source": []
  },
  {
   "cell_type": "code",
   "execution_count": null,
   "id": "dcd8e392",
   "metadata": {},
   "outputs": [],
   "source": []
  }
 ],
 "metadata": {
  "kernelspec": {
   "display_name": "Python 3 (ipykernel)",
   "language": "python",
   "name": "python3"
  },
  "language_info": {
   "codemirror_mode": {
    "name": "ipython",
    "version": 3
   },
   "file_extension": ".py",
   "mimetype": "text/x-python",
   "name": "python",
   "nbconvert_exporter": "python",
   "pygments_lexer": "ipython3",
   "version": "3.9.7"
  }
 },
 "nbformat": 4,
 "nbformat_minor": 5
}
